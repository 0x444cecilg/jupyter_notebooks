{
 "cells": [
  {
   "cell_type": "markdown",
   "id": "91f33f88",
   "metadata": {},
   "source": [
    "<h1>Cecil Gilliard Crypto Trading bot</h1>"
   ]
  },
  {
   "cell_type": "markdown",
   "id": "a9d85d23",
   "metadata": {},
   "source": [
    "<h3>This is code to produce a BTC-USD ticker from Coinbase Sanbox API</h3>"
   ]
  },
  {
   "cell_type": "markdown",
   "id": "62ba1f9e",
   "metadata": {},
   "source": [
    "<h4>My Youtube link: https://www.youtube.com/watch?v=JNWjZ6bOAk4</h4>"
   ]
  },
  {
   "cell_type": "code",
   "execution_count": 4,
   "id": "2908c0cb",
   "metadata": {},
   "outputs": [],
   "source": [
    "import pandas as pd\n",
    "import cbpro\n",
    "import time\n",
    "\n",
    "# credit to this dev for the ticker\n",
    "# https://www.youtube.com/watch?v=a74pQbHgdXw\n",
    "\n",
    "class TextWebsocketClient(cbpro.WebsocketClient):\n",
    "    def on_open(self):\n",
    "        self.url = 'wss://ws-feed-public.sandbox.pro.coinbase.com'\n",
    "        self.message_count = 0\n",
    "    \n",
    "    def on_message(self,msg):\n",
    "        self.message_count += 1\n",
    "        msg_type = msg.get('type',None)\n",
    "        if msg_type == 'ticker':\n",
    "            time_val   = msg.get('time',('-'*10))\n",
    "            price_val  = msg.get('price',None)\n",
    "            if price_val is not None:\n",
    "                price_val = float(price_val)\n",
    "            product_id = msg.get('product_id',None)\n",
    "            \n",
    "            print(f\"{time_val:30} \\\n",
    "                {price_val:.3f} \\\n",
    "                {msg_type}: \\\n",
    "                {product_id}\")\n",
    "    \n",
    "    def on_close(self):\n",
    "        print(f\"<---Websocket connection closed--->\\n\\tTotal messages: {self.message_count}\")"
   ]
  },
  {
   "cell_type": "code",
   "execution_count": 5,
   "id": "d3f4a4ab",
   "metadata": {},
   "outputs": [
    {
     "name": "stdout",
     "output_type": "stream",
     "text": [
      "2021-12-06T17:01:21.883966Z                    49400.000                 ticker:                 BTC-USD\n",
      "2021-12-06T17:01:22.788104Z                    49522.010                 ticker:                 BTC-USD\n",
      "2021-12-06T17:01:22.987637Z                    50000.000                 ticker:                 BTC-USD\n",
      "2021-12-06T17:01:23.632466Z                    50000.000                 ticker:                 BTC-USD\n",
      "2021-12-06T17:01:24.044885Z                    50000.000                 ticker:                 BTC-USD\n",
      "2021-12-06T17:01:24.302470Z                    50000.000                 ticker:                 BTC-USD\n",
      "2021-12-06T17:01:24.302470Z                    49600.000                 ticker:                 BTC-USD\n",
      "2021-12-06T17:01:24.488460Z                    57564.000                 ticker:                 BTC-USD\n",
      "2021-12-06T17:01:24.643662Z                    49600.000                 ticker:                 BTC-USD\n",
      "2021-12-06T17:01:24.828967Z                    49624.110                 ticker:                 BTC-USD\n",
      "2021-12-06T17:01:25.027686Z                    57564.000                 ticker:                 BTC-USD\n",
      "2021-12-06T17:01:25.176231Z                    49600.000                 ticker:                 BTC-USD\n",
      "2021-12-06T17:01:25.176231Z                    49400.000                 ticker:                 BTC-USD\n",
      "2021-12-06T17:01:25.176231Z                    48663.630                 ticker:                 BTC-USD\n",
      "2021-12-06T17:01:25.434136Z                    48642.830                 ticker:                 BTC-USD\n",
      "2021-12-06T17:01:25.439923Z                    48224.700                 ticker:                 BTC-USD\n",
      "2021-12-06T17:01:25.475387Z                    48224.700                 ticker:                 BTC-USD\n",
      "2021-12-06T17:01:25.475387Z                    49625.530                 ticker:                 BTC-USD\n",
      "2021-12-06T17:01:25.696707Z                    49628.700                 ticker:                 BTC-USD\n",
      "2021-12-06T17:01:25.757313Z                    57564.000                 ticker:                 BTC-USD\n",
      "2021-12-06T17:01:25.783952Z                    57564.000                 ticker:                 BTC-USD\n",
      "2021-12-06T17:01:25.973210Z                    48669.840                 ticker:                 BTC-USD\n",
      "2021-12-06T17:01:25.973210Z                    48100.000                 ticker:                 BTC-USD\n",
      "2021-12-06T17:01:25.976405Z                    48100.000                 ticker:                 BTC-USD\n",
      "2021-12-06T17:01:25.976405Z                    47900.000                 ticker:                 BTC-USD\n",
      "2021-12-06T17:01:26.219137Z                    57564.000                 ticker:                 BTC-USD\n",
      "2021-12-06T17:01:26.261605Z                    57564.000                 ticker:                 BTC-USD\n",
      "2021-12-06T17:01:26.296278Z                    57564.000                 ticker:                 BTC-USD\n",
      "2021-12-06T17:01:26.405882Z                    48648.490                 ticker:                 BTC-USD\n",
      "2021-12-06T17:01:26.405882Z                    48300.000                 ticker:                 BTC-USD\n",
      "2021-12-06T17:01:26.467153Z                    48300.000                 ticker:                 BTC-USD\n",
      "2021-12-06T17:01:26.467153Z                    47900.000                 ticker:                 BTC-USD\n",
      "2021-12-06T17:01:26.531377Z                    47900.000                 ticker:                 BTC-USD\n",
      "2021-12-06T17:01:26.587076Z                    57564.000                 ticker:                 BTC-USD\n",
      "2021-12-06T17:01:26.651762Z                    49603.440                 ticker:                 BTC-USD\n",
      "2021-12-06T17:01:26.714083Z                    48621.190                 ticker:                 BTC-USD\n",
      "2021-12-06T17:01:26.720513Z                    57564.000                 ticker:                 BTC-USD\n",
      "2021-12-06T17:01:26.772745Z                    57564.000                 ticker:                 BTC-USD\n",
      "2021-12-06T17:01:26.862098Z                    47900.000                 ticker:                 BTC-USD\n"
     ]
    }
   ],
   "source": [
    "# used to start the ticker\n",
    "stream = TextWebsocketClient(products=['BTC-USD'],channels=['ticker'])\n",
    "stream.start()"
   ]
  },
  {
   "cell_type": "code",
   "execution_count": 6,
   "id": "0cc39604",
   "metadata": {},
   "outputs": [
    {
     "name": "stdout",
     "output_type": "stream",
     "text": [
      "2021-12-06T17:01:26.862098Z                    47800.000                 ticker:                 BTC-USD\n",
      "2021-12-06T17:01:27.010472Z                    48644.610                 ticker:                 BTC-USD\n",
      "<---Websocket connection closed--->\n",
      "\tTotal messages: 42\n"
     ]
    }
   ],
   "source": [
    "# used to stop the ticker\n",
    "stream.close()"
   ]
  },
  {
   "cell_type": "markdown",
   "id": "3397bdf5",
   "metadata": {},
   "source": [
    "<h3>This is a simple program used for buying and selling BTC manually through the Coinbase Sandbox API</h3>"
   ]
  },
  {
   "cell_type": "code",
   "execution_count": 7,
   "id": "8b47c4d5",
   "metadata": {},
   "outputs": [
    {
     "name": "stdout",
     "output_type": "stream",
     "text": [
      "Would you like to buy or sell BTC?buy\n",
      "The current price of BTC-USD is 49741.2 USD.\n",
      "At what price in USD would you like to buy BTC? 49741.2\n",
      "How much BTC would you like to purchase? 'USD': 100\n",
      "Buying BTC!!!\n",
      "{'id': '534d9ea9-8011-4318-8a59-89a3527af864', 'product_id': 'BTC-USD', 'side': 'buy', 'stp': 'dc', 'funds': '99.50248756', 'specified_funds': '100', 'type': 'market', 'post_only': False, 'created_at': '2021-12-06T17:02:54.075147Z', 'fill_fees': '0', 'filled_size': '0', 'executed_value': '0', 'status': 'pending', 'settled': False}\n",
      "Would you like to cancel all BTC-USD limit orders? 'Y/N'N\n"
     ]
    }
   ],
   "source": [
    "import cbpro\n",
    "import time\n",
    "#  created my api key and saved secret, key, and passphrase on seperate file for security\n",
    "from cb_authy import (api_secret,\n",
    "                      api_key,\n",
    "                      api_pass) \n",
    "\n",
    "# Create authenticatedClient instance\n",
    "# this allows for buys/sells deposits/withdrawels from account\n",
    "# https://pypi.org/project/cbpro/\n",
    "\n",
    "url='https://api-public.sandbox.pro.coinbase.com'\n",
    "\n",
    "client = cbpro.AuthenticatedClient(\n",
    "    api_key,\n",
    "    api_secret,\n",
    "    api_pass,\n",
    "    api_url=url\n",
    ")\n",
    "pub_client = cbpro.PublicClient()\n",
    "\n",
    "# the method one would use to deposit into account\n",
    "# I've already deposited so commented out\n",
    "# payment_methods = client.get_payment_methods()\n",
    "\n",
    "# for method in payment_methods:\n",
    "#     currency  = method.get('currency',None)\n",
    "#     if currency.upper() == 'USD':\n",
    "#         method_id = method.get('id',None) \n",
    "#     elif currency is None:\n",
    "#         continue\n",
    "        \n",
    "# client.deposit(\n",
    "#     amount=10000,\n",
    "#     currency=currency,\n",
    "#     payment_method_id=method_id\n",
    "# )\n",
    "\n",
    "\n",
    "# set spot price to variable \n",
    "price = float(client.get_product_ticker(product_id='BTC-USD')['price'])\n",
    "\n",
    "buy_sell = input(\"Would you like to buy or sell BTC? \").lower()\n",
    "\n",
    "\n",
    "if (buy_sell == \"buy\"):\n",
    "    print(f'The current price of BTC-USD is {price} USD.')\n",
    "    buy_price = input(\"At what price in USD would you like to buy BTC? \")\n",
    "    if (float(buy_price) >= price):\n",
    "        buy_amt = input(\"How much BTC would you like to purchase? 'USD': \")\n",
    "        print(\"Buying BTC!!!\")\n",
    "        print(client.buy(funds=buy_amt, order_type=\"market\", product_id=\"BTC-USD\"))\n",
    "    elif (float(buy_price) <= price):\n",
    "        buy_sze = input(\"How much BTC would you like to purchase? 'BTC': \")\n",
    "        print(\"Setting limit order!!\")\n",
    "        print(client.buy(price=buy_price, size=buy_sze, order_type=\"limit\", product_id=\"BTC-USD\"))\n",
    "        \n",
    "elif (buy_sell == \"sell\"):\n",
    "    print(f'The current price of BTC-USD is {price} USD.')\n",
    "    sell_price = input(\"At what price in USD would you like to sell BTC? \")\n",
    "    if (float(sell_price) <= price):\n",
    "        sell_amt = input(\"How much BTC would you like to sell? USD: \")\n",
    "        print(\"Selling BTC!!!\")\n",
    "        print(client.sell(funds=sell_amt, order_type=\"market\", product_id=\"BTC-USD\"))\n",
    "    elif (float(sell_price) >= price):\n",
    "        sell_sze = input(\"How much BTC would you like to sell? 'BTC': \")\n",
    "        print(\"Setting limit order!!\")\n",
    "        print(client.sell(price=buy_price, size=sell_sze, order_type=\"limit\", product_id=\"BTC-USD\"))\n",
    "\n",
    "else: \n",
    "    print(\"Error: Must select 'buy or sell'.\")\n",
    "\n",
    "    \n",
    "cancel_orders = input(\"Would you like to cancel all BTC-USD limit orders? 'Y/N'\").upper()\n",
    "\n",
    "\n",
    "if (cancel_orders == \"Y\"):\n",
    "    u_sure = input(\"Are you sure you would like to cancel all BTC-USD limit orders?! 'Y/N'\")\n",
    "    if (u_sure == 'Y'):\n",
    "        print(client.cancel_all(product_id=\"BTC-USD\"))\n",
    "        print(\"All orders cancelled!!\")\n",
    "else:\n",
    "    pass\n",
    "        \n"
   ]
  },
  {
   "cell_type": "markdown",
   "id": "84f70b83",
   "metadata": {},
   "source": [
    "<h3>Trading bot for BTC-USD using the Coinbase Sandbox API</h3>"
   ]
  },
  {
   "cell_type": "code",
   "execution_count": 1,
   "id": "a981740b",
   "metadata": {},
   "outputs": [
    {
     "name": "stdout",
     "output_type": "stream",
     "text": [
      "C'mon, do something BTC!!!\n",
      "C'mon, do something BTC!!!\n",
      "C'mon, do something BTC!!!\n"
     ]
    },
    {
     "ename": "KeyboardInterrupt",
     "evalue": "",
     "output_type": "error",
     "traceback": [
      "\u001b[0;31m---------------------------------------------------------------------------\u001b[0m",
      "\u001b[0;31mKeyboardInterrupt\u001b[0m                         Traceback (most recent call last)",
      "\u001b[0;32m<ipython-input-1-700f973e445b>\u001b[0m in \u001b[0;36m<module>\u001b[0;34m\u001b[0m\n\u001b[1;32m     57\u001b[0m \u001b[0;31m#         break\u001b[0m\u001b[0;34m\u001b[0m\u001b[0;34m\u001b[0m\u001b[0;34m\u001b[0m\u001b[0m\n\u001b[1;32m     58\u001b[0m     \u001b[0;31m# timer to set bot to trading timeframe in seconds\u001b[0m\u001b[0;34m\u001b[0m\u001b[0;34m\u001b[0m\u001b[0;34m\u001b[0m\u001b[0m\n\u001b[0;32m---> 59\u001b[0;31m     \u001b[0mtime\u001b[0m\u001b[0;34m.\u001b[0m\u001b[0msleep\u001b[0m\u001b[0;34m(\u001b[0m\u001b[0;36m5\u001b[0m\u001b[0;34m)\u001b[0m\u001b[0;34m\u001b[0m\u001b[0;34m\u001b[0m\u001b[0m\n\u001b[0m\u001b[1;32m     60\u001b[0m \u001b[0;34m\u001b[0m\u001b[0m\n\u001b[1;32m     61\u001b[0m \u001b[0;31m# print(open_price)\u001b[0m\u001b[0;34m\u001b[0m\u001b[0;34m\u001b[0m\u001b[0;34m\u001b[0m\u001b[0m\n",
      "\u001b[0;31mKeyboardInterrupt\u001b[0m: "
     ]
    }
   ],
   "source": [
    "import cbpro\n",
    "import time\n",
    "#  created my api key and saved secret, key, and passphrase on seperate file for security\n",
    "from cb_authy import (api_secret,\n",
    "                      api_key,\n",
    "                      api_pass) \n",
    "\n",
    "# Create authenticatedClient instance\n",
    "# this allows for buys/sells deposits/withdrawels from account\n",
    "# https://pypi.org/project/cbpro/\n",
    "\n",
    "url='https://api-public.sandbox.pro.coinbase.com'\n",
    "\n",
    "client = cbpro.AuthenticatedClient(\n",
    "    api_key,\n",
    "    api_secret,\n",
    "    api_pass,\n",
    "    api_url=url\n",
    ")\n",
    "pub_client = cbpro.PublicClient()\n",
    "# set spot price to variable \n",
    "price = float(client.get_product_ticker(product_id='BTC-USD')['price'])\n",
    "# get the opening price of BTC\n",
    "stats = client.get_product_24hr_stats('BTC-USD')\n",
    "open_price = float(stats['open'])\n",
    "\n",
    "# function to decide percentage change between two values\n",
    "# https://stackoverflow.com/questions/30926840/how-to-check-change-between-two-values-in-percent\n",
    "def percentage_change(current, previous):\n",
    "    \"\"\"returns percent difference between 2 numbers\"\"\"\n",
    "    if previous != 0 :\n",
    "        return round(float(current - previous) / abs(previous) * 100, 2)\n",
    "    else:\n",
    "        return \"undefined\"\n",
    "\n",
    "buy_amt = 100\n",
    "sell_amt = 500\n",
    "\n",
    "# bot to buy or sell btc based on percentage change between opening and current price\n",
    "# obviously this is a horrible strategy; but it shows the endless ways a program can \n",
    "# implement strategies to buy/sell cryptocurrency without the user's manual input\n",
    "while (True):   \n",
    "    # aribitrary percentenge change numbers, can make whatever you'd like\n",
    "    if percentage_change(price, open_price) >= -2:\n",
    "        print(\"BUY BUY BUY!!!\")\n",
    "        # actual code to buy\n",
    "#         print(client.buy(funds=buy_amt, order_type=\"market\", product_id=\"BTC-USD\"))\n",
    "        # i have the breaks in here just to stop the infinite loop\n",
    "#         break\n",
    "    elif percentage_change(price, open_price) >= 2:\n",
    "        print(\"SELL SELL SELL!!!\")\n",
    "        # actual code to sell\n",
    "#         print(client.sell(funds=sell_amt, order_type=\"market\", product_id=\"BTC-USD\"))\n",
    "#         break\n",
    "    else:\n",
    "        print(\"C'mon, do something BTC!!!\")\n",
    "#         break\n",
    "    # timer to set bot to trading timeframe in seconds\n",
    "    time.sleep(5)\n",
    "    \n",
    "# print(open_price)\n",
    "# print(price)"
   ]
  },
  {
   "cell_type": "code",
   "execution_count": null,
   "id": "265afaf2",
   "metadata": {},
   "outputs": [],
   "source": []
  }
 ],
 "metadata": {
  "kernelspec": {
   "display_name": "Python 3",
   "language": "python",
   "name": "python3"
  },
  "language_info": {
   "codemirror_mode": {
    "name": "ipython",
    "version": 3
   },
   "file_extension": ".py",
   "mimetype": "text/x-python",
   "name": "python",
   "nbconvert_exporter": "python",
   "pygments_lexer": "ipython3",
   "version": "3.8.11"
  }
 },
 "nbformat": 4,
 "nbformat_minor": 5
}
